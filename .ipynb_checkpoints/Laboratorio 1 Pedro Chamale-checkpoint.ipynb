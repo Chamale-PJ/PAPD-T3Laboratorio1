{
 "cells": [
  {
   "cell_type": "markdown",
   "id": "ac3faf29",
   "metadata": {},
   "source": [
    "# LABORATORIO 1\n",
    "### PEDRO CHAMALE  - 23000478"
   ]
  },
  {
   "cell_type": "code",
   "execution_count": 1,
   "id": "bcae3432",
   "metadata": {},
   "outputs": [],
   "source": [
    "import cv2\n",
    "import matplotlib.pyplot as plt\n",
    "import numpy as np"
   ]
  },
  {
   "cell_type": "markdown",
   "id": "33306289",
   "metadata": {},
   "source": [
    "*** \n",
    "#### Problema No.1\n",
    "##### Desarrolle una funci´on la cual reciba dos par´ametros, una imagen y un entero llamado color, la funcion debe devolver una imagen la cual tenga activos los canales de color segun los siguientes puntos:"
   ]
  },
  {
   "cell_type": "code",
   "execution_count": null,
   "id": "f34250a1",
   "metadata": {},
   "outputs": [],
   "source": [
    "imagen = cv2.imread()"
   ]
  }
 ],
 "metadata": {
  "kernelspec": {
   "display_name": "Python 3 (ipykernel)",
   "language": "python",
   "name": "python3"
  },
  "language_info": {
   "codemirror_mode": {
    "name": "ipython",
    "version": 3
   },
   "file_extension": ".py",
   "mimetype": "text/x-python",
   "name": "python",
   "nbconvert_exporter": "python",
   "pygments_lexer": "ipython3",
   "version": "3.9.13"
  }
 },
 "nbformat": 4,
 "nbformat_minor": 5
}
